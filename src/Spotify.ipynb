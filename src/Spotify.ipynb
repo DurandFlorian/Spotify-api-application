{
 "cells": [
  {
   "cell_type": "code",
   "execution_count": 1,
   "metadata": {},
   "outputs": [],
   "source": [
    "import spotipy,myCredentials\n",
    "from spotipy.oauth2 import SpotifyOAuth\n",
    "class SpotifyManager : \n",
    "\n",
    "    def __init__(self) :\n",
    "        scope = \"\"\n",
    "        self.sp = spotipy.Spotify(auth_manager=SpotifyOAuth(myCredentials.clientID,myCredentials.clientSecret,\"http://localhost:8002/callback\",scope=scope))\n",
    "        \n",
    "    def findArtistID(self,artist_name) :\n",
    "        return self.sp.search(q='artist:' + artist_name,type='artist')['artists']['items'][0]['id']\n",
    "    \n",
    "    def artistAlbumsAppearance(self,artist_id) :\n",
    "        total = self.sp.artist_albums(artist_id,album_type=\"appears_on\",limit=1)['total']\n",
    "        return {album['name']:album['id'] for i in range(0,total,50) for album in self.sp.artist_albums(artist_id,album_type=\"appears_on\",limit=50,offset=i)['items'] if album['album_type']!=\"compilation\"}\n",
    "\n",
    "    def artistTracksOnAlbum(self,artist_id,album_id) :\n",
    "        total = self.sp.album_tracks(album_id)['total']\n",
    "        tracks = self.sp.album_tracks(album_id)['items']\n",
    "        track_list = []\n",
    "        for track in tracks :\n",
    "            artists = track['artists']\n",
    "            for artist in artists :\n",
    "                if artist['id']==artist_id :\n",
    "                    track_list.append((track['id'],track['name']))\n",
    "        return track_list\n",
    "    \n",
    "    def artistTracksAppeareance(self,artist_id) :\n",
    "        albums = self.artistAlbumsAppearance(artist_id)\n",
    "        tracks = dict()\n",
    "        for album_id in list(albums.values()) :\n",
    "            track_couple_list = self.artistTracksOnAlbum(artist_id,album_id)\n",
    "            for track_id,track_name in track_couple_list :\n",
    "                tracks[track_id] = track_name\n",
    "        return tracks"
   ]
  },
  {
   "cell_type": "code",
   "execution_count": 2,
   "metadata": {
    "scrolled": true
   },
   "outputs": [
    {
     "name": "stdout",
     "output_type": "stream",
     "text": [
      "{'7c1NJl82fRVMQgR17W0Zd3': 'La lune rousse', '4cA13PlziQeBvZ7QKFqDX7': 'I Get You (Fakear Remix)', '0GxX83QDHQmyf9rmmGEirl': 'Are You OK? - Fakear Remix', '381T1R5XR5LA9fpGxLImkd': 'Kanagawa Waves 1831', '6orJu4daPvsUZcGjUio35M': 'Are You OK? - Fakear Remix', '766VFMFqJhyEyP0ErDcqIR': 'Are You Ok? - Fakear Remix', '2c1F4xiGqB08DCp7l6NdIx': 'Miracle - Fakear Remix', '4LY2o2fSVuJzzg6ihWCWkt': 'Miracle - Fakear Remix', '71fvc7yk5Uj4P027sNUdae': 'Out Here With Us - Fakear Remix', '3RgygU2lHXe9BNCP8ffUQq': '5th Season', '2GH5YPmXOoA9nWRnuhnLro': 'Burning Bridges (Fakear Remix)', '2DtnjNEP5MwpXk76xHrGTX': 'Sing with the Birds - Fakear Remix', '0wiGAn4g76RuBDrfEXkdri': 'Meteorite - Fakear Remix', '3dXMmaqqeasSwI1a2LrsqZ': 'Burn It Down', '1j7ALfRxRod8crq9td40bC': \"I'm In Control - Fakear Remix\", '2QvArQmZv5S6bFwxU9kaEj': 'Opening (Fakear Rework)', '0Jb1k1dWshcTkIL6MEpdl2': 'Dad (Fakear Remix)', '72PEEnEwJRYm9fm83ZtA0Y': 'Say My Name (feat. Zyra) - Fakear Remix', '4zvTUrIhYV0Z4ONyyCrcBD': 'Damas', '0wQlHaCTEVhqfnMpP3VmK9': 'Loving the Hate - Fakear Remix', '06xdMtiRV2h3OhxOr8t2c3': 'Gold - Fakear Remix', '0IAVf6pD2eVO4OICcNbflJ': 'Under the Shadows - Fakear Remix', '1fVMnsLm4VXxMGytsueYuL': 'Cheese Naan', '1LHaWjJcfbHguPeYy7C7dN': 'Rapace', '3bxYS7xIyNwre0gvAziEjY': 'Move It - Fakear Remix', '3BfbB28vgZXx1CZTS9OwdE': 'Pola - Fakear Remix', '7wfvGeYjNuYzg8AkodlyhX': 'Pavane - Fakear Remix'}\n"
     ]
    }
   ],
   "source": [
    "spotify = SpotifyManager()\n",
    "artist_id = spotify.findArtistID(\"fakear\")\n",
    "print(spotify.artistTracksAppeareance(artist_id))"
   ]
  },
  {
   "cell_type": "code",
   "execution_count": null,
   "metadata": {},
   "outputs": [],
   "source": []
  }
 ],
 "metadata": {
  "kernelspec": {
   "display_name": "Python 3",
   "language": "python",
   "name": "python3"
  },
  "language_info": {
   "codemirror_mode": {
    "name": "ipython",
    "version": 3
   },
   "file_extension": ".py",
   "mimetype": "text/x-python",
   "name": "python",
   "nbconvert_exporter": "python",
   "pygments_lexer": "ipython3",
   "version": "3.8.3"
  }
 },
 "nbformat": 4,
 "nbformat_minor": 4
}
